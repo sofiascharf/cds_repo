{
 "cells": [
  {
   "cell_type": "markdown",
   "metadata": {},
   "source": [
    "# Week 3 - Loops, Conditions and Functions"
   ]
  },
  {
   "cell_type": "markdown",
   "metadata": {},
   "source": [
    "Author: Johanne Sejrskild  \n",
    "Date: 12.08.2025"
   ]
  },
  {
   "cell_type": "markdown",
   "metadata": {},
   "source": [
    "*Good afternoon*  \n",
    "Today we are going to work with loops, condions and functions. The green excercises will be highly linked to what you livecoded with Anna. If you find them challenging use yesterdays work as a help or ask. If you want to challenge yourself, try and do them all without using any help. \n",
    "In the yellow  excercises we will make a password checker and a function that converts temperatures. And for the red excercise we will make a function that calculates grades\n",
    "\n",
    "**Structure of the notebook:**  \n",
    "<span style=\"color:green\">\n",
    "Green excercises \n",
    "</span>\n",
    "<ul>\n",
    "  <li>Conditional Statements</li>\n",
    "  <li>Loops</li>\n",
    "  <li>Functions</li>\n",
    "</ul>\n",
    "\n",
    "<span style=\"color:yellow\">\n",
    "Yellow excercises\n",
    "</span>\n",
    "<ul>\n",
    "  <li>Password checker</li>\n",
    "  <li>Temperature converter</li>\n",
    "</ul>\n",
    " \n",
    "\n",
    "<span style=\"color:red\">\n",
    "Red excercises\n",
    "</span>\n",
    "<ul>\n",
    "  <li> Grade calculator </li>\n",
    "  <li> Optional extra: Grade calculator as a class </li>\n",
    "</ul>\n",
    "  \n",
    "\n",
    "\n",
    "Start with the first excercise, and then continue in order. Feel free to work together, and see how far you can get.   \n",
    "The important thing is to learn, not to solve all the challenges!\n",
    "________________________________________________________________________________________"
   ]
  },
  {
   "cell_type": "code",
   "execution_count": 1,
   "metadata": {},
   "outputs": [
    {
     "name": "stdout",
     "output_type": "stream",
     "text": [
      "Requirement already satisfied: lxml in /Users/sofiascharf-matthiesen/miniconda3/lib/python3.12/site-packages (6.0.1)\n",
      "\n",
      "\u001b[1m[\u001b[0m\u001b[34;49mnotice\u001b[0m\u001b[1;39;49m]\u001b[0m\u001b[39;49m A new release of pip is available: \u001b[0m\u001b[31;49m24.3.1\u001b[0m\u001b[39;49m -> \u001b[0m\u001b[32;49m25.2\u001b[0m\n",
      "\u001b[1m[\u001b[0m\u001b[34;49mnotice\u001b[0m\u001b[1;39;49m]\u001b[0m\u001b[39;49m To update, run: \u001b[0m\u001b[32;49mpip install --upgrade pip\u001b[0m\n",
      "Note: you may need to restart the kernel to use updated packages.\n"
     ]
    }
   ],
   "source": [
    "# Before we start we need to import the necessary packages\n",
    "%pip install lxml\n",
    "import pandas as pd\n",
    "import lxml as lx\n"
   ]
  },
  {
   "cell_type": "markdown",
   "metadata": {},
   "source": [
    "<span style=\"color:green\">\n",
    "<h2>\n",
    "Green excercises </h2>\n",
    "</span>"
   ]
  },
  {
   "cell_type": "markdown",
   "metadata": {},
   "source": [
    "## Conditional Statements"
   ]
  },
  {
   "cell_type": "markdown",
   "metadata": {},
   "source": [
    "\n",
    "**The *if* statement**   "
   ]
  },
  {
   "cell_type": "code",
   "execution_count": null,
   "metadata": {},
   "outputs": [],
   "source": [
    "# Basic syntax\n",
    "# if condition:  \n",
    "    # code to execute if condition is True\n",
    "    "
   ]
  },
  {
   "cell_type": "code",
   "execution_count": 3,
   "metadata": {},
   "outputs": [
    {
     "name": "stdout",
     "output_type": "stream",
     "text": [
      "x is greater than 5\n"
     ]
    }
   ],
   "source": [
    "# Example of if statement\n",
    "# Before running: What will happen and why?\n",
    "# \"x is greater than 5\" will be printed as the condition (x > 5) is True.\n",
    "    \n",
    "x = 10\n",
    "if x > 5:\n",
    "    print(\"x is greater than 5\")"
   ]
  },
  {
   "cell_type": "code",
   "execution_count": 2,
   "metadata": {},
   "outputs": [
    {
     "name": "stdout",
     "output_type": "stream",
     "text": [
      "x is less than 5\n"
     ]
    }
   ],
   "source": [
    "# Exceise: Modify the code to check if x is less than 5 and print a different message. \n",
    "x = 3 \n",
    "if x < 5:\n",
    "    print(\"x is less than 5\")"
   ]
  },
  {
   "cell_type": "markdown",
   "metadata": {},
   "source": [
    "**The *else* statement**"
   ]
  },
  {
   "cell_type": "code",
   "execution_count": 4,
   "metadata": {},
   "outputs": [],
   "source": [
    "# Basic syntax\n",
    "\n",
    "# if condition:\n",
    "    # code if condition is True\n",
    "# else:\n",
    "    # code if condition is False"
   ]
  },
  {
   "cell_type": "code",
   "execution_count": 5,
   "metadata": {},
   "outputs": [
    {
     "name": "stdout",
     "output_type": "stream",
     "text": [
      "x is not greater than 5\n"
     ]
    }
   ],
   "source": [
    "# Example of if-else statement\n",
    "# Before running: What will happen and why?\n",
    "# \"x is not greater than 5\" will be printed as the condition (x > 5) is False.\n",
    "\n",
    "x = 3\n",
    "if x > 5:\n",
    "    print(\"x is greater than 5\")\n",
    "else:\n",
    "    print(\"x is not greater than 5\")"
   ]
  },
  {
   "cell_type": "code",
   "execution_count": 6,
   "metadata": {},
   "outputs": [
    {
     "name": "stdout",
     "output_type": "stream",
     "text": [
      "x is greater than 5\n",
      "x is greater than 5\n"
     ]
    }
   ],
   "source": [
    "# Excercise - Change the code above so that it prints \"x is greater than 5.\" by only changing one number/symbol.\n",
    "# How many solutions can you find? and is some of them better than others?\n",
    "\n",
    "# solution 1: modify cutoff value\n",
    "x = 3\n",
    "if x > 2:\n",
    "    print(\"x is greater than 5\")\n",
    "else:\n",
    "    print(\"x is not greater than 5\")\n",
    "\n",
    "# this is not that cool, as the print statement is a lie now\n",
    "\n",
    "# solution 2: modify x value\n",
    "x = 10\n",
    "if x > 5:\n",
    "    print(\"x is greater than 5\")\n",
    "else:\n",
    "    print(\"x is not greater than 5\")\n",
    "\n",
    "# this is the best solution, as the print statement is still true\n"
   ]
  },
  {
   "cell_type": "markdown",
   "metadata": {},
   "source": [
    "**The *elif* statement** (for multiple conditions)"
   ]
  },
  {
   "cell_type": "code",
   "execution_count": null,
   "metadata": {},
   "outputs": [],
   "source": [
    "# Basic syntax\n",
    "\n",
    "# if condition1:\n",
    "    # code if condition1 is True\n",
    "# elif condition2:\n",
    "    # code if condition2 is True\n",
    "# else:\n",
    "    # code if neither condition is True\n",
    "    "
   ]
  },
  {
   "cell_type": "code",
   "execution_count": 7,
   "metadata": {},
   "outputs": [
    {
     "name": "stdout",
     "output_type": "stream",
     "text": [
      "x is equal to 5\n"
     ]
    }
   ],
   "source": [
    "# Example of if-elif-else statement\n",
    "# Before running: What will happen and why?\n",
    "# \"x is equal to 5\" will be printed as cond1 (x > 5) is False\n",
    "# but cond2 (x == 5) is True.\n",
    "\n",
    "x = 5\n",
    "if x > 5:\n",
    "    print(\"x is greater than 5\")\n",
    "elif x == 5:\n",
    "    print(\"x is equal to 5\")\n",
    "else:\n",
    "    print(\"x is less than 5\")"
   ]
  },
  {
   "cell_type": "code",
   "execution_count": null,
   "metadata": {},
   "outputs": [],
   "source": [
    "# Exercise - What happens when the condition for if and elif are the same? Why?\n",
    "# if the condition is true, then only the first will be printed. \n",
    "# as soon as first condition is met, the rest is skipped"
   ]
  },
  {
   "cell_type": "markdown",
   "metadata": {},
   "source": [
    "## Loops\n",
    "Loops in Python are used to execute a block of code repeatedly. We will look at two different types of loops; the *for loop*, and the *while loop*.  \n",
    "**The for loop** iterates over sequences, so it keeps executing until it has reached the end of the loop.  \n",
    "**The while loop** keeps repeating while a condition is true, and first ends when the condition becomes false. "
   ]
  },
  {
   "cell_type": "code",
   "execution_count": 8,
   "metadata": {},
   "outputs": [
    {
     "name": "stdout",
     "output_type": "stream",
     "text": [
      "apple\n",
      "banana\n",
      "cherry\n"
     ]
    }
   ],
   "source": [
    "# For loop - Basic syntax\n",
    "# for element in sequence:\n",
    "    # code to execute for each element\n",
    "\n",
    "# Example of for loop\n",
    "fruits = [\"apple\", \"banana\", \"cherry\"]\n",
    "for fruit in fruits:\n",
    "    print(fruit)"
   ]
  },
  {
   "cell_type": "code",
   "execution_count": 10,
   "metadata": {},
   "outputs": [
    {
     "name": "stdout",
     "output_type": "stream",
     "text": [
      "5\n",
      "6\n",
      "6\n"
     ]
    }
   ],
   "source": [
    "# Exercise - Modify the code to print the length of each fruit instead of the fruit itself.\n",
    "# Example of for loop\n",
    "for fruit in fruits:\n",
    "    print(len(fruit))"
   ]
  },
  {
   "cell_type": "code",
   "execution_count": 11,
   "metadata": {},
   "outputs": [
    {
     "name": "stdout",
     "output_type": "stream",
     "text": [
      "5\n",
      "4\n",
      "3\n",
      "2\n",
      "1\n"
     ]
    }
   ],
   "source": [
    "# While loop - Basic syntax\n",
    "# while condition:\n",
    "    # code to execute while condition is True\n",
    "    \n",
    "# Example of while loop\n",
    "x = 5\n",
    "while x > 0:\n",
    "    print(x)\n",
    "    x -= 1"
   ]
  },
  {
   "cell_type": "code",
   "execution_count": 14,
   "metadata": {},
   "outputs": [
    {
     "name": "stdout",
     "output_type": "stream",
     "text": [
      "1\n",
      "2\n",
      "3\n",
      "4\n",
      "5\n"
     ]
    }
   ],
   "source": [
    "# Excercise - Modify the code to count up from 1 to 5 instead of counting down from 5 to 1.\n",
    "x = 1\n",
    "while x <= 5:\n",
    "    print(x)\n",
    "    x += 1"
   ]
  },
  {
   "cell_type": "markdown",
   "metadata": {},
   "source": [
    "## Functions"
   ]
  },
  {
   "cell_type": "code",
   "execution_count": 15,
   "metadata": {},
   "outputs": [],
   "source": [
    "# Heres a calculator\n",
    "def add_two_numbers(a, b):\n",
    "    result = a + b\n",
    "    print(f\"{a} + {b} = {result}\")"
   ]
  },
  {
   "cell_type": "code",
   "execution_count": 16,
   "metadata": {},
   "outputs": [
    {
     "name": "stdout",
     "output_type": "stream",
     "text": [
      "3 + 5 = 8\n"
     ]
    }
   ],
   "source": [
    "# Try it out with different numbers\n",
    "add_two_numbers(3, 5)"
   ]
  },
  {
   "cell_type": "code",
   "execution_count": 17,
   "metadata": {},
   "outputs": [],
   "source": [
    "# Make a subtraction function\n",
    "def subtract_two_numbers(a,b):\n",
    "    equals = a - b\n",
    "    print(f\"{a} - {b} = {equals}\")"
   ]
  },
  {
   "cell_type": "code",
   "execution_count": 18,
   "metadata": {},
   "outputs": [
    {
     "name": "stdout",
     "output_type": "stream",
     "text": [
      "3 - 5 = -2\n"
     ]
    }
   ],
   "source": [
    "# Try it out with different numbers\n",
    "subtract_two_numbers(3, 5)"
   ]
  },
  {
   "cell_type": "markdown",
   "metadata": {},
   "source": [
    "<span style=\"color:yellow\">\n",
    "<h2>\n",
    "Yellow excercises \n",
    "</span>"
   ]
  },
  {
   "cell_type": "markdown",
   "metadata": {},
   "source": [
    "## Password checker\n",
    "You’re making a simple password checker. How would you check if the password is correct?\n",
    "\n",
    "Write code that asks for a password and checks if it follows the requirements:\n",
    "- It needs to be between 8 and 32 characters long \n",
    "\n",
    "Make sure you print some meaningful message the user can understand. Try it with both the correct password and wrong passwords.\n",
    "\n",
    "Hint: use the input function to allow for user inputs e.g. **input(\"Enter the password: \")**"
   ]
  },
  {
   "cell_type": "code",
   "execution_count": 3,
   "metadata": {},
   "outputs": [
    {
     "name": "stdout",
     "output_type": "stream",
     "text": [
      "Password is too short, must be at least 8 characters.\n"
     ]
    }
   ],
   "source": [
    "# code here \n",
    "def password_checker():\n",
    "    password = input(\"What is your password:\")\n",
    "    # too short\n",
    "    if len(password) < 8:\n",
    "        print(\"Password is too short, must be at least 8 characters.\")\n",
    "    # too long\n",
    "    elif len(password) > 32:\n",
    "        print(\"Password is too long, must be no more than 32 characters.\")\n",
    "    else:\n",
    "        print(\"Password is strong.\")"
   ]
  },
  {
   "cell_type": "markdown",
   "metadata": {},
   "source": [
    "Now lets add some extra requirements:\n",
    "- The password needs to have at least 3 digits\n",
    "- And there needs to be an uppercase letter"
   ]
  },
  {
   "cell_type": "code",
   "execution_count": 7,
   "metadata": {},
   "outputs": [
    {
     "name": "stdout",
     "output_type": "stream",
     "text": [
      "Password is strong.\n"
     ]
    }
   ],
   "source": [
    "# Modified code here\n",
    "def password_checker():\n",
    "    password = input(\"What is your password:\")\n",
    "    if len(password) < 8:\n",
    "        print(\"Password is too short, must be at least 8 characters.\")\n",
    "    elif len(password) > 32:\n",
    "        print(\"Password is too long, must be no more than 32 characters.\")\n",
    "    #  digits\n",
    "    elif sum(c.isdigit() for c in password) < 3:\n",
    "        print(\"Password must contain at least 3 digits.\")\n",
    "    # uppercase letters\n",
    "    elif sum(c.isupper() for c in password) < 1:\n",
    "        print(\"Password must contain at least 1 uppercase letter.\")\n",
    "    else:\n",
    "        print(\"Password is strong.\")\n"
   ]
  },
  {
   "cell_type": "markdown",
   "metadata": {},
   "source": [
    "And the last bits, now we also need to ensure that the password contains:\n",
    "- 2 special characters\n",
    "\n",
    "Make sure the user understands why a wrong password is rejected. And ensure that only a password that holds all requirements are passed. "
   ]
  },
  {
   "cell_type": "code",
   "execution_count": 12,
   "metadata": {},
   "outputs": [
    {
     "name": "stdout",
     "output_type": "stream",
     "text": [
      "Password is strong.\n"
     ]
    }
   ],
   "source": [
    "# Last modifications on the code - final password_checker\n",
    "def password_checker():\n",
    "    password = input(\"What is your password:\")\n",
    "    if len(password) < 8:\n",
    "        print(\"Password is too short, must be at least 8 characters.\")\n",
    "    elif len(password) > 32:\n",
    "        print(\"Password is too long, must be no more than 32 characters.\")\n",
    "    elif sum(c.isdigit() for c in password) < 3:\n",
    "        print(\"Password must contain at least 3 digits.\")\n",
    "    elif sum(c.isupper() for c in password) < 1:\n",
    "        print(\"Password must contain at least 1 uppercase letter.\")\n",
    "    # special characters\n",
    "    elif sum(not c.isalnum() for c in password) < 1:\n",
    "        print(\"Password must contain at least 1 special character.\")\n",
    "    else:\n",
    "        print(\"Password is strong.\")"
   ]
  },
  {
   "cell_type": "markdown",
   "metadata": {},
   "source": [
    "## Temperature converter\n",
    "\n",
    "Lets now make a function that can convert celcius to fahrenheit. \n",
    "Make an IPO with your group and discuss what hte input, the process and the outpus should be. \n",
    "\n",
    "The function should print an informational message and return something usable. "
   ]
  },
  {
   "cell_type": "markdown",
   "metadata": {},
   "source": [
    "Hint: F = (celsius * 9/5) +32"
   ]
  },
  {
   "cell_type": "code",
   "execution_count": 24,
   "metadata": {},
   "outputs": [],
   "source": [
    "# celsius to fahrenheit converter\n",
    "def celcius2fahrenheit():\n",
    "    c = input(\"Enter temperature in °C: \")\n",
    "    f = (c * 9/5) + 32\n",
    "    print(f\"{c}°C is equal to {f}°F\")"
   ]
  },
  {
   "cell_type": "markdown",
   "metadata": {},
   "source": [
    "Now make a function that does the opposite.   \n",
    "Hint: C = ((fahrenheit-32)/(9/5))  "
   ]
  },
  {
   "cell_type": "code",
   "execution_count": 26,
   "metadata": {},
   "outputs": [],
   "source": [
    "# Fahrenheit to Celsius converter\n",
    "def fahrenheit2celcius():\n",
    "    f = input(\"Enter temperature in °F: \")\n",
    "    c = (f - 32) * 5/9\n",
    "    if f == 451:\n",
    "        print(f\"Celcius {c} is not as catchy a booktitle as Fahrenheit {f}.\")\n",
    "    else:\n",
    "        print(f\"{f}°F is equal to {c}°C\")"
   ]
  },
  {
   "cell_type": "markdown",
   "metadata": {},
   "source": [
    "Well done! \n",
    "Now wouldn't it be neat if we could just wrap that into a function that we could call temperature_converter with two parameters \"temperature\" and \"unit\" so that we could convert both ways. \n",
    "\n"
   ]
  },
  {
   "cell_type": "code",
   "execution_count": 28,
   "metadata": {},
   "outputs": [
    {
     "name": "stdout",
     "output_type": "stream",
     "text": [
      "Celcius 232.77777777777777 is not as catchy a booktitle as Fahrenheit 451.0.\n"
     ]
    }
   ],
   "source": [
    "# Temperature converter here\n",
    "def temperature_converter(): \n",
    "    # let them choose convertion direction\n",
    "    choice = input(\"Enter F for fahrenheit to celcius conversion or C for celcius to fahrenheit conversion: \").upper()\n",
    "    \n",
    "    if choice == \"C\":\n",
    "        c = float(input(\"Enter temperature in °C: \"))\n",
    "        f = (c * 9/5) + 32\n",
    "        print(f\"{c}°C is equal to {f}°F\")\n",
    "    \n",
    "    if choice == \"F\":\n",
    "        f = float(input(\"Enter temperature in °F: \"))\n",
    "        c = (f - 32) * 5/9\n",
    "        if f == 451:\n",
    "            print(f\"Celcius {c} is not as catchy a booktitle as Fahrenheit {f}.\")\n",
    "        else:\n",
    "            print(f\"{f}°F is equal to {c}°C\")\n",
    "\n",
    "temperature_converter()"
   ]
  },
  {
   "cell_type": "markdown",
   "metadata": {},
   "source": [
    "**OBS:**  To ensure you can go back in 3 months time and read you code and understand the logics behind it it needs to be well commented.   \n",
    "So, take  look at the yellow excercises and see if you need to add some meaningful comments about the logics and coding choices.  \n",
    "\n",
    ":))"
   ]
  },
  {
   "cell_type": "markdown",
   "metadata": {},
   "source": [
    "<span style=\"color:red\">\n",
    "<h2>\n",
    "Red excercises\n",
    "</span>"
   ]
  },
  {
   "cell_type": "markdown",
   "metadata": {},
   "source": [
    "## Grade calculator\n",
    "\n",
    "The scenario: You’re helping a teacher who wants to calculate student grades quickly. The teacher has been doing these calculations by hand, which takes a long time and sometimes leads to mistakes.\n",
    "\n",
    "The challenge: \n",
    "- Calculate the average of test scores\n",
    "- Convert percentage grades to letter grades (it's just easier than the danish grading metric ngl)\n",
    "- Calculate final grades with different weights for different assignments\n",
    "\n",
    "Example data:  \n",
    "Tests count for 70%, homework counts for 30%  \n",
    "\n",
    "Test scores: 85, 93, 78, 96, 88\n",
    "Homework average: 90"
   ]
  },
  {
   "cell_type": "markdown",
   "metadata": {},
   "source": [
    "Now we start with one thing first. Each functions should do _one_ thing effectively. \n"
   ]
  },
  {
   "cell_type": "code",
   "execution_count": 69,
   "metadata": {},
   "outputs": [],
   "source": [
    "# Make a function that calculate the average of test scores. \n",
    "def calculate_avg(scores):\n",
    "    total = sum(scores)\n",
    "    avg = total / len(scores)\n",
    "    return avg\n",
    "\n",
    "# store average\n",
    "test_scores = [85, 93, 78, 96, 88]\n",
    "average_score = calculate_avg(test_scores)"
   ]
  },
  {
   "cell_type": "markdown",
   "metadata": {},
   "source": [
    "Well done, now we move on to the next sub-task\n",
    "\n",
    "Hint: Grade to lettter grade converter  \n",
    "90–100 → A  \n",
    "80–89  → B  \n",
    "70–79  → C  \n",
    "60–69  → D  \n",
    "0–59   → F  \n"
   ]
  },
  {
   "cell_type": "code",
   "execution_count": 70,
   "metadata": {},
   "outputs": [
    {
     "data": {
      "text/plain": [
       "'F'"
      ]
     },
     "execution_count": 70,
     "metadata": {},
     "output_type": "execute_result"
    }
   ],
   "source": [
    "# Make a function that converst the test scores to letter grades\n",
    "\n",
    "def percentage_to_letter_grade(perc):\n",
    "    if perc>=100 or perc<0:\n",
    "        return \"Invalid percentage\"\n",
    "    if perc >= 90:\n",
    "        return \"A\"\n",
    "    elif perc >= 80:\n",
    "        return \"B\"\n",
    "    elif perc >= 70:\n",
    "        return \"C\"\n",
    "    elif perc >= 60:\n",
    "        return \"D\"\n",
    "    else:\n",
    "        return \"F\"\n",
    "\n",
    "# Test with different percentages\n",
    "percentage_to_letter_grade(38)"
   ]
  },
  {
   "cell_type": "markdown",
   "metadata": {},
   "source": [
    "Last task, We need to calculate the weighted grade\n"
   ]
  },
  {
   "cell_type": "code",
   "execution_count": 71,
   "metadata": {},
   "outputs": [],
   "source": [
    "def calculate_weighted_grade(test_avg, hmwk_score, \n",
    "                             test_weight = 70, hmwk_weight = 30):\n",
    "    \n",
    "    # calc weighted avg of each\n",
    "    test_ovall = test_avg * (test_weight / 100)\n",
    "    hmwk_ovall = hmwk_score * (hmwk_weight / 100)\n",
    "    \n",
    "    final_grade = test_ovall + hmwk_ovall\n",
    "    return final_grade"
   ]
  },
  {
   "cell_type": "markdown",
   "metadata": {},
   "source": [
    "Now we want to give the professor one function that uses all these three and wraps them in a neat little function with everything put together. "
   ]
  },
  {
   "cell_type": "code",
   "execution_count": 74,
   "metadata": {},
   "outputs": [
    {
     "data": {
      "text/plain": [
       "(87.8, 88.46, 'B')"
      ]
     },
     "execution_count": 74,
     "metadata": {},
     "output_type": "execute_result"
    }
   ],
   "source": [
    "# now lets make a dictionary first to avoid too many inputs\n",
    "def calculate_student_grade(test_scores, hmwk_score, \n",
    "                             test_weight = 70, hmwk_weight = 30):\n",
    "    # calculate test average\n",
    "    test_avg = calculate_avg(test_scores)\n",
    "    \n",
    "    # final weighted\n",
    "    final_grade = calculate_weighted_grade(test_avg, hmwk_score)\n",
    "    \n",
    "    # convert to letter grade\n",
    "    letter_grade = percentage_to_letter_grade(final_grade)\n",
    "    \n",
    "    # returnnn\n",
    "    return test_avg, final_grade, letter_grade\n",
    "\n",
    "# try it out \n",
    "test_scores = [85, 92, 78, 96, 88]\n",
    "hmwk_score = 90.0\n",
    "\n",
    "calculate_student_grade(test_scores, hmwk_score)\n"
   ]
  },
  {
   "cell_type": "markdown",
   "metadata": {},
   "source": [
    "## Optional red: Take your grade calculator and make it a class!"
   ]
  },
  {
   "cell_type": "code",
   "execution_count": 87,
   "metadata": {},
   "outputs": [
    {
     "data": {
      "text/plain": [
       "(87.8, 88.46, 'B')"
      ]
     },
     "execution_count": 87,
     "metadata": {},
     "output_type": "execute_result"
    }
   ],
   "source": [
    "# Code here :)\n",
    "class Grade_Calculator: \n",
    "\n",
    "    def __init__ (self, test_scores, hmwk_score, \n",
    "                 test_weight = 70, hmwk_weight = 30):\n",
    "        \n",
    "        # let's get them again \n",
    "        self.test_scores = test_scores\n",
    "        self.hmwk_score = hmwk_score\n",
    "        self.test_weight = test_weight\n",
    "        self.hmwk_weight = hmwk_weight\n",
    "    \n",
    "    def calculate_avg(self):\n",
    "        total = sum(self.test_scores)\n",
    "        avg = total / len(self.test_scores)\n",
    "        return avg\n",
    "    \n",
    "    def percentage_to_letter_grade(self, perc):\n",
    "        if perc>=100 or perc<0:\n",
    "            return \"Invalid percentage\"\n",
    "        if perc >= 90:\n",
    "            return \"A\"\n",
    "        elif perc >= 80:\n",
    "            return \"B\"\n",
    "        elif perc >= 70:\n",
    "            return \"C\"\n",
    "        elif perc >= 60:\n",
    "            return \"D\"\n",
    "        else:\n",
    "            return \"F\"\n",
    "        \n",
    "    def calculate_weighted_grade(self, test_avg):\n",
    "        # calc weighted avg of each\n",
    "        test_ovall = test_avg * (self.test_weight / 100)\n",
    "        hmwk_ovall = self.hmwk_score * (self.hmwk_weight / 100)\n",
    "\n",
    "        final_grade = test_ovall + hmwk_ovall\n",
    "        return final_grade\n",
    "    \n",
    "    def calculate_student_grade(self):\n",
    "        # calculate test average\n",
    "        test_avg = self.calculate_avg()\n",
    "\n",
    "        # final weighted\n",
    "        final_grade = self.calculate_weighted_grade(test_avg)\n",
    "\n",
    "        # convert to letter grade\n",
    "        letter_grade = self.percentage_to_letter_grade(final_grade)\n",
    "\n",
    "        # returnnn\n",
    "        return test_avg, final_grade, letter_grade\n",
    "    \n",
    "# try it out\n",
    "test_scores = [85, 92, 78, 96, 88]\n",
    "hmwk_score = 90.0\n",
    "student = Grade_Calculator(test_scores, hmwk_score)\n",
    "student.calculate_student_grade()"
   ]
  },
  {
   "cell_type": "markdown",
   "metadata": {},
   "source": [
    "### Wuhuu - now you are all done. Impressive!  \n",
    "\n",
    " If you have time alter the function above so it outputs a neat dtudent grade report with test scores, test average, homework average, final grade and letter grade. "
   ]
  }
 ],
 "metadata": {
  "kernelspec": {
   "display_name": "Python 3 (ipykernel)",
   "language": "python",
   "name": "python3"
  },
  "language_info": {
   "codemirror_mode": {
    "name": "ipython",
    "version": 3
   },
   "file_extension": ".py",
   "mimetype": "text/x-python",
   "name": "python",
   "nbconvert_exporter": "python",
   "pygments_lexer": "ipython3",
   "version": "3.12.7"
  }
 },
 "nbformat": 4,
 "nbformat_minor": 4
}
